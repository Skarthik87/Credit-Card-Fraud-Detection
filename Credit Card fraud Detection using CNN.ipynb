{
 "cells": [
  {
   "cell_type": "markdown",
   "metadata": {},
   "source": [
    "## Credit Card Fraud Detection using CNN"
   ]
  },
  {
   "cell_type": "code",
   "execution_count": 121,
   "metadata": {},
   "outputs": [],
   "source": [
    "import numpy as np\n",
    "import pandas as pd\n",
    "import seaborn as sns\n",
    "import matplotlib.pyplot as plt\n",
    "from sklearn.model_selection import train_test_split\n",
    "from sklearn.preprocessing import StandardScaler"
   ]
  },
  {
   "cell_type": "code",
   "execution_count": 122,
   "metadata": {},
   "outputs": [],
   "source": [
    "import tensorflow as tf\n",
    "from tensorflow import keras\n",
    "from tensorflow.keras import Sequential\n",
    "from tensorflow.keras.layers import Flatten, Dense, Dropout, BatchNormalization\n",
    "from tensorflow.keras.layers import Conv1D, MaxPool1D\n",
    "from tensorflow.keras.optimizers import Adam\n"
   ]
  },
  {
   "cell_type": "code",
   "execution_count": 123,
   "metadata": {},
   "outputs": [
    {
     "data": {
      "text/html": [
       "<div>\n",
       "<style scoped>\n",
       "    .dataframe tbody tr th:only-of-type {\n",
       "        vertical-align: middle;\n",
       "    }\n",
       "\n",
       "    .dataframe tbody tr th {\n",
       "        vertical-align: top;\n",
       "    }\n",
       "\n",
       "    .dataframe thead th {\n",
       "        text-align: right;\n",
       "    }\n",
       "</style>\n",
       "<table border=\"1\" class=\"dataframe\">\n",
       "  <thead>\n",
       "    <tr style=\"text-align: right;\">\n",
       "      <th></th>\n",
       "      <th>Time</th>\n",
       "      <th>V1</th>\n",
       "      <th>V2</th>\n",
       "      <th>V3</th>\n",
       "      <th>V4</th>\n",
       "      <th>V5</th>\n",
       "      <th>V6</th>\n",
       "      <th>V7</th>\n",
       "      <th>V8</th>\n",
       "      <th>V9</th>\n",
       "      <th>...</th>\n",
       "      <th>V21</th>\n",
       "      <th>V22</th>\n",
       "      <th>V23</th>\n",
       "      <th>V24</th>\n",
       "      <th>V25</th>\n",
       "      <th>V26</th>\n",
       "      <th>V27</th>\n",
       "      <th>V28</th>\n",
       "      <th>Amount</th>\n",
       "      <th>Class</th>\n",
       "    </tr>\n",
       "  </thead>\n",
       "  <tbody>\n",
       "    <tr>\n",
       "      <th>0</th>\n",
       "      <td>0.0</td>\n",
       "      <td>-1.359807</td>\n",
       "      <td>-0.072781</td>\n",
       "      <td>2.536347</td>\n",
       "      <td>1.378155</td>\n",
       "      <td>-0.338321</td>\n",
       "      <td>0.462388</td>\n",
       "      <td>0.239599</td>\n",
       "      <td>0.098698</td>\n",
       "      <td>0.363787</td>\n",
       "      <td>...</td>\n",
       "      <td>-0.018307</td>\n",
       "      <td>0.277838</td>\n",
       "      <td>-0.110474</td>\n",
       "      <td>0.066928</td>\n",
       "      <td>0.128539</td>\n",
       "      <td>-0.189115</td>\n",
       "      <td>0.133558</td>\n",
       "      <td>-0.021053</td>\n",
       "      <td>149.62</td>\n",
       "      <td>0</td>\n",
       "    </tr>\n",
       "    <tr>\n",
       "      <th>1</th>\n",
       "      <td>0.0</td>\n",
       "      <td>1.191857</td>\n",
       "      <td>0.266151</td>\n",
       "      <td>0.166480</td>\n",
       "      <td>0.448154</td>\n",
       "      <td>0.060018</td>\n",
       "      <td>-0.082361</td>\n",
       "      <td>-0.078803</td>\n",
       "      <td>0.085102</td>\n",
       "      <td>-0.255425</td>\n",
       "      <td>...</td>\n",
       "      <td>-0.225775</td>\n",
       "      <td>-0.638672</td>\n",
       "      <td>0.101288</td>\n",
       "      <td>-0.339846</td>\n",
       "      <td>0.167170</td>\n",
       "      <td>0.125895</td>\n",
       "      <td>-0.008983</td>\n",
       "      <td>0.014724</td>\n",
       "      <td>2.69</td>\n",
       "      <td>0</td>\n",
       "    </tr>\n",
       "    <tr>\n",
       "      <th>2</th>\n",
       "      <td>1.0</td>\n",
       "      <td>-1.358354</td>\n",
       "      <td>-1.340163</td>\n",
       "      <td>1.773209</td>\n",
       "      <td>0.379780</td>\n",
       "      <td>-0.503198</td>\n",
       "      <td>1.800499</td>\n",
       "      <td>0.791461</td>\n",
       "      <td>0.247676</td>\n",
       "      <td>-1.514654</td>\n",
       "      <td>...</td>\n",
       "      <td>0.247998</td>\n",
       "      <td>0.771679</td>\n",
       "      <td>0.909412</td>\n",
       "      <td>-0.689281</td>\n",
       "      <td>-0.327642</td>\n",
       "      <td>-0.139097</td>\n",
       "      <td>-0.055353</td>\n",
       "      <td>-0.059752</td>\n",
       "      <td>378.66</td>\n",
       "      <td>0</td>\n",
       "    </tr>\n",
       "    <tr>\n",
       "      <th>3</th>\n",
       "      <td>1.0</td>\n",
       "      <td>-0.966272</td>\n",
       "      <td>-0.185226</td>\n",
       "      <td>1.792993</td>\n",
       "      <td>-0.863291</td>\n",
       "      <td>-0.010309</td>\n",
       "      <td>1.247203</td>\n",
       "      <td>0.237609</td>\n",
       "      <td>0.377436</td>\n",
       "      <td>-1.387024</td>\n",
       "      <td>...</td>\n",
       "      <td>-0.108300</td>\n",
       "      <td>0.005274</td>\n",
       "      <td>-0.190321</td>\n",
       "      <td>-1.175575</td>\n",
       "      <td>0.647376</td>\n",
       "      <td>-0.221929</td>\n",
       "      <td>0.062723</td>\n",
       "      <td>0.061458</td>\n",
       "      <td>123.50</td>\n",
       "      <td>0</td>\n",
       "    </tr>\n",
       "    <tr>\n",
       "      <th>4</th>\n",
       "      <td>2.0</td>\n",
       "      <td>-1.158233</td>\n",
       "      <td>0.877737</td>\n",
       "      <td>1.548718</td>\n",
       "      <td>0.403034</td>\n",
       "      <td>-0.407193</td>\n",
       "      <td>0.095921</td>\n",
       "      <td>0.592941</td>\n",
       "      <td>-0.270533</td>\n",
       "      <td>0.817739</td>\n",
       "      <td>...</td>\n",
       "      <td>-0.009431</td>\n",
       "      <td>0.798278</td>\n",
       "      <td>-0.137458</td>\n",
       "      <td>0.141267</td>\n",
       "      <td>-0.206010</td>\n",
       "      <td>0.502292</td>\n",
       "      <td>0.219422</td>\n",
       "      <td>0.215153</td>\n",
       "      <td>69.99</td>\n",
       "      <td>0</td>\n",
       "    </tr>\n",
       "  </tbody>\n",
       "</table>\n",
       "<p>5 rows × 31 columns</p>\n",
       "</div>"
      ],
      "text/plain": [
       "   Time        V1        V2        V3        V4        V5        V6        V7  \\\n",
       "0   0.0 -1.359807 -0.072781  2.536347  1.378155 -0.338321  0.462388  0.239599   \n",
       "1   0.0  1.191857  0.266151  0.166480  0.448154  0.060018 -0.082361 -0.078803   \n",
       "2   1.0 -1.358354 -1.340163  1.773209  0.379780 -0.503198  1.800499  0.791461   \n",
       "3   1.0 -0.966272 -0.185226  1.792993 -0.863291 -0.010309  1.247203  0.237609   \n",
       "4   2.0 -1.158233  0.877737  1.548718  0.403034 -0.407193  0.095921  0.592941   \n",
       "\n",
       "         V8        V9  ...       V21       V22       V23       V24       V25  \\\n",
       "0  0.098698  0.363787  ... -0.018307  0.277838 -0.110474  0.066928  0.128539   \n",
       "1  0.085102 -0.255425  ... -0.225775 -0.638672  0.101288 -0.339846  0.167170   \n",
       "2  0.247676 -1.514654  ...  0.247998  0.771679  0.909412 -0.689281 -0.327642   \n",
       "3  0.377436 -1.387024  ... -0.108300  0.005274 -0.190321 -1.175575  0.647376   \n",
       "4 -0.270533  0.817739  ... -0.009431  0.798278 -0.137458  0.141267 -0.206010   \n",
       "\n",
       "        V26       V27       V28  Amount  Class  \n",
       "0 -0.189115  0.133558 -0.021053  149.62      0  \n",
       "1  0.125895 -0.008983  0.014724    2.69      0  \n",
       "2 -0.139097 -0.055353 -0.059752  378.66      0  \n",
       "3 -0.221929  0.062723  0.061458  123.50      0  \n",
       "4  0.502292  0.219422  0.215153   69.99      0  \n",
       "\n",
       "[5 rows x 31 columns]"
      ]
     },
     "execution_count": 123,
     "metadata": {},
     "output_type": "execute_result"
    }
   ],
   "source": [
    "df = pd.read_csv('creditcard.csv')\n",
    "df.head()\n"
   ]
  },
  {
   "cell_type": "code",
   "execution_count": 124,
   "metadata": {},
   "outputs": [
    {
     "data": {
      "text/plain": [
       "(284807, 31)"
      ]
     },
     "execution_count": 124,
     "metadata": {},
     "output_type": "execute_result"
    }
   ],
   "source": [
    "df.shape"
   ]
  },
  {
   "cell_type": "code",
   "execution_count": 125,
   "metadata": {},
   "outputs": [
    {
     "name": "stdout",
     "output_type": "stream",
     "text": [
      "<class 'pandas.core.frame.DataFrame'>\n",
      "RangeIndex: 284807 entries, 0 to 284806\n",
      "Data columns (total 31 columns):\n",
      " #   Column  Non-Null Count   Dtype  \n",
      "---  ------  --------------   -----  \n",
      " 0   Time    284807 non-null  float64\n",
      " 1   V1      284807 non-null  float64\n",
      " 2   V2      284807 non-null  float64\n",
      " 3   V3      284807 non-null  float64\n",
      " 4   V4      284807 non-null  float64\n",
      " 5   V5      284807 non-null  float64\n",
      " 6   V6      284807 non-null  float64\n",
      " 7   V7      284807 non-null  float64\n",
      " 8   V8      284807 non-null  float64\n",
      " 9   V9      284807 non-null  float64\n",
      " 10  V10     284807 non-null  float64\n",
      " 11  V11     284807 non-null  float64\n",
      " 12  V12     284807 non-null  float64\n",
      " 13  V13     284807 non-null  float64\n",
      " 14  V14     284807 non-null  float64\n",
      " 15  V15     284807 non-null  float64\n",
      " 16  V16     284807 non-null  float64\n",
      " 17  V17     284807 non-null  float64\n",
      " 18  V18     284807 non-null  float64\n",
      " 19  V19     284807 non-null  float64\n",
      " 20  V20     284807 non-null  float64\n",
      " 21  V21     284807 non-null  float64\n",
      " 22  V22     284807 non-null  float64\n",
      " 23  V23     284807 non-null  float64\n",
      " 24  V24     284807 non-null  float64\n",
      " 25  V25     284807 non-null  float64\n",
      " 26  V26     284807 non-null  float64\n",
      " 27  V27     284807 non-null  float64\n",
      " 28  V28     284807 non-null  float64\n",
      " 29  Amount  284807 non-null  float64\n",
      " 30  Class   284807 non-null  int64  \n",
      "dtypes: float64(30), int64(1)\n",
      "memory usage: 67.4 MB\n"
     ]
    }
   ],
   "source": [
    "df.info()"
   ]
  },
  {
   "cell_type": "code",
   "execution_count": 126,
   "metadata": {
    "scrolled": true
   },
   "outputs": [
    {
     "data": {
      "text/plain": [
       "Time      0\n",
       "V1        0\n",
       "V2        0\n",
       "V3        0\n",
       "V4        0\n",
       "V5        0\n",
       "V6        0\n",
       "V7        0\n",
       "V8        0\n",
       "V9        0\n",
       "V10       0\n",
       "V11       0\n",
       "V12       0\n",
       "V13       0\n",
       "V14       0\n",
       "V15       0\n",
       "V16       0\n",
       "V17       0\n",
       "V18       0\n",
       "V19       0\n",
       "V20       0\n",
       "V21       0\n",
       "V22       0\n",
       "V23       0\n",
       "V24       0\n",
       "V25       0\n",
       "V26       0\n",
       "V27       0\n",
       "V28       0\n",
       "Amount    0\n",
       "Class     0\n",
       "dtype: int64"
      ]
     },
     "execution_count": 126,
     "metadata": {},
     "output_type": "execute_result"
    }
   ],
   "source": [
    "df.isnull().sum()"
   ]
  },
  {
   "cell_type": "code",
   "execution_count": 127,
   "metadata": {},
   "outputs": [
    {
     "data": {
      "text/plain": [
       "0    284315\n",
       "1       492\n",
       "Name: Class, dtype: int64"
      ]
     },
     "execution_count": 127,
     "metadata": {},
     "output_type": "execute_result"
    }
   ],
   "source": [
    "df['Class'].value_counts()"
   ]
  },
  {
   "cell_type": "code",
   "execution_count": 128,
   "metadata": {
    "scrolled": true
   },
   "outputs": [
    {
     "data": {
      "image/png": "[encoded data removed]",
      "text/plain": [
       "<Figure size 432x288 with 1 Axes>"
      ]
     },
     "metadata": {
      "needs_background": "light"
     },
     "output_type": "display_data"
    }
   ],
   "source": [
    "RANDOM_SEED = 100\n",
    "LABELS = [\"Normal\", \"Fraud\"]\n",
    "\n",
    "no_of_classes = pd.value_counts(df['Class'], sort = True)\n",
    "no_of_classes.plot(kind = 'bar', rot=0)\n",
    "plt.title(\"Transaction Class distribution\")\n",
    "plt.xticks(range(2), LABELS)\n",
    "plt.xlabel(\"Class\")\n",
    "plt.ylabel(\"Frequency\");"
   ]
  },
  {
   "cell_type": "markdown",
   "metadata": {},
   "source": [
    "### Balancing the Dataset "
   ]
  },
  {
   "cell_type": "code",
   "execution_count": 129,
   "metadata": {},
   "outputs": [],
   "source": [
    "Normal = df[df['Class']==0]\n",
    "Fraud = df[df['Class']==1]"
   ]
  },
  {
   "cell_type": "code",
   "execution_count": 130,
   "metadata": {
    "scrolled": true
   },
   "outputs": [
    {
     "data": {
      "image/png": "[encoded data removed]",
      "text/plain": [
       "<Figure size 432x288 with 2 Axes>"
      ]
     },
     "metadata": {
      "needs_background": "light"
     },
     "output_type": "display_data"
    }
   ],
   "source": [
    "f, (ax1, ax2) = plt.subplots(2, 1, sharex=True)\n",
    "f.suptitle('Amount per transaction by class')\n",
    "\n",
    "bins = 50\n",
    "\n",
    "ax1.hist(Fraud.Amount, bins = bins)\n",
    "ax1.set_title('Fraud')\n",
    "\n",
    "ax2.hist(Normal.Amount, bins = bins)\n",
    "ax2.set_title('Normal')\n",
    "\n",
    "plt.xlabel('Amount ($)')\n",
    "plt.ylabel('Number of Transactions')\n",
    "plt.xlim((0, 5000))\n",
    "plt.yscale('log')\n",
    "plt.show();"
   ]
  },
  {
   "cell_type": "code",
   "execution_count": 131,
   "metadata": {},
   "outputs": [
    {
     "data": {
      "image/png": "[encoded data removed]",
      "text/plain": [
       "<Figure size 432x288 with 2 Axes>"
      ]
     },
     "metadata": {
      "needs_background": "light"
     },
     "output_type": "display_data"
    }
   ],
   "source": [
    "f, (ax1, ax2) = plt.subplots(2, 1, sharex=True)\n",
    "f.suptitle('Time of transaction vs Amount by class')\n",
    "\n",
    "ax1.scatter(Fraud.Time, Fraud.Amount)\n",
    "ax1.set_title('Fraud')\n",
    "\n",
    "ax2.scatter(Normal.Time, Normal.Amount)\n",
    "ax2.set_title('Normal')\n",
    "\n",
    "plt.xlabel('Time (in Seconds)')\n",
    "plt.ylabel('Amount')\n",
    "plt.show()"
   ]
  },
  {
   "cell_type": "code",
   "execution_count": 132,
   "metadata": {},
   "outputs": [
    {
     "data": {
      "text/plain": [
       "((284315, 31), (492, 31))"
      ]
     },
     "execution_count": 132,
     "metadata": {},
     "output_type": "execute_result"
    }
   ],
   "source": [
    "Normal.shape, Fraud.shape"
   ]
  },
  {
   "cell_type": "code",
   "execution_count": 133,
   "metadata": {},
   "outputs": [
    {
     "data": {
      "text/plain": [
       "(492, 31)"
      ]
     },
     "execution_count": 133,
     "metadata": {},
     "output_type": "execute_result"
    }
   ],
   "source": [
    "Normal = Normal.sample(Fraud.shape[0])\n",
    "Normal.shape"
   ]
  },
  {
   "cell_type": "code",
   "execution_count": 134,
   "metadata": {},
   "outputs": [
    {
     "data": {
      "text/html": [
       "<div>\n",
       "<style scoped>\n",
       "    .dataframe tbody tr th:only-of-type {\n",
       "        vertical-align: middle;\n",
       "    }\n",
       "\n",
       "    .dataframe tbody tr th {\n",
       "        vertical-align: top;\n",
       "    }\n",
       "\n",
       "    .dataframe thead th {\n",
       "        text-align: right;\n",
       "    }\n",
       "</style>\n",
       "<table border=\"1\" class=\"dataframe\">\n",
       "  <thead>\n",
       "    <tr style=\"text-align: right;\">\n",
       "      <th></th>\n",
       "      <th>Time</th>\n",
       "      <th>V1</th>\n",
       "      <th>V2</th>\n",
       "      <th>V3</th>\n",
       "      <th>V4</th>\n",
       "      <th>V5</th>\n",
       "      <th>V6</th>\n",
       "      <th>V7</th>\n",
       "      <th>V8</th>\n",
       "      <th>V9</th>\n",
       "      <th>...</th>\n",
       "      <th>V21</th>\n",
       "      <th>V22</th>\n",
       "      <th>V23</th>\n",
       "      <th>V24</th>\n",
       "      <th>V25</th>\n",
       "      <th>V26</th>\n",
       "      <th>V27</th>\n",
       "      <th>V28</th>\n",
       "      <th>Amount</th>\n",
       "      <th>Class</th>\n",
       "    </tr>\n",
       "  </thead>\n",
       "  <tbody>\n",
       "    <tr>\n",
       "      <th>0</th>\n",
       "      <td>406.0</td>\n",
       "      <td>-2.312227</td>\n",
       "      <td>1.951992</td>\n",
       "      <td>-1.609851</td>\n",
       "      <td>3.997906</td>\n",
       "      <td>-0.522188</td>\n",
       "      <td>-1.426545</td>\n",
       "      <td>-2.537387</td>\n",
       "      <td>1.391657</td>\n",
       "      <td>-2.770089</td>\n",
       "      <td>...</td>\n",
       "      <td>0.517232</td>\n",
       "      <td>-0.035049</td>\n",
       "      <td>-0.465211</td>\n",
       "      <td>0.320198</td>\n",
       "      <td>0.044519</td>\n",
       "      <td>0.177840</td>\n",
       "      <td>0.261145</td>\n",
       "      <td>-0.143276</td>\n",
       "      <td>0.00</td>\n",
       "      <td>1</td>\n",
       "    </tr>\n",
       "    <tr>\n",
       "      <th>1</th>\n",
       "      <td>472.0</td>\n",
       "      <td>-3.043541</td>\n",
       "      <td>-3.157307</td>\n",
       "      <td>1.088463</td>\n",
       "      <td>2.288644</td>\n",
       "      <td>1.359805</td>\n",
       "      <td>-1.064823</td>\n",
       "      <td>0.325574</td>\n",
       "      <td>-0.067794</td>\n",
       "      <td>-0.270953</td>\n",
       "      <td>...</td>\n",
       "      <td>0.661696</td>\n",
       "      <td>0.435477</td>\n",
       "      <td>1.375966</td>\n",
       "      <td>-0.293803</td>\n",
       "      <td>0.279798</td>\n",
       "      <td>-0.145362</td>\n",
       "      <td>-0.252773</td>\n",
       "      <td>0.035764</td>\n",
       "      <td>529.00</td>\n",
       "      <td>1</td>\n",
       "    </tr>\n",
       "    <tr>\n",
       "      <th>2</th>\n",
       "      <td>4462.0</td>\n",
       "      <td>-2.303350</td>\n",
       "      <td>1.759247</td>\n",
       "      <td>-0.359745</td>\n",
       "      <td>2.330243</td>\n",
       "      <td>-0.821628</td>\n",
       "      <td>-0.075788</td>\n",
       "      <td>0.562320</td>\n",
       "      <td>-0.399147</td>\n",
       "      <td>-0.238253</td>\n",
       "      <td>...</td>\n",
       "      <td>-0.294166</td>\n",
       "      <td>-0.932391</td>\n",
       "      <td>0.172726</td>\n",
       "      <td>-0.087330</td>\n",
       "      <td>-0.156114</td>\n",
       "      <td>-0.542628</td>\n",
       "      <td>0.039566</td>\n",
       "      <td>-0.153029</td>\n",
       "      <td>239.93</td>\n",
       "      <td>1</td>\n",
       "    </tr>\n",
       "    <tr>\n",
       "      <th>3</th>\n",
       "      <td>6986.0</td>\n",
       "      <td>-4.397974</td>\n",
       "      <td>1.358367</td>\n",
       "      <td>-2.592844</td>\n",
       "      <td>2.679787</td>\n",
       "      <td>-1.128131</td>\n",
       "      <td>-1.706536</td>\n",
       "      <td>-3.496197</td>\n",
       "      <td>-0.248778</td>\n",
       "      <td>-0.247768</td>\n",
       "      <td>...</td>\n",
       "      <td>0.573574</td>\n",
       "      <td>0.176968</td>\n",
       "      <td>-0.436207</td>\n",
       "      <td>-0.053502</td>\n",
       "      <td>0.252405</td>\n",
       "      <td>-0.657488</td>\n",
       "      <td>-0.827136</td>\n",
       "      <td>0.849573</td>\n",
       "      <td>59.00</td>\n",
       "      <td>1</td>\n",
       "    </tr>\n",
       "    <tr>\n",
       "      <th>4</th>\n",
       "      <td>7519.0</td>\n",
       "      <td>1.234235</td>\n",
       "      <td>3.019740</td>\n",
       "      <td>-4.304597</td>\n",
       "      <td>4.732795</td>\n",
       "      <td>3.624201</td>\n",
       "      <td>-1.357746</td>\n",
       "      <td>1.713445</td>\n",
       "      <td>-0.496358</td>\n",
       "      <td>-1.282858</td>\n",
       "      <td>...</td>\n",
       "      <td>-0.379068</td>\n",
       "      <td>-0.704181</td>\n",
       "      <td>-0.656805</td>\n",
       "      <td>-1.632653</td>\n",
       "      <td>1.488901</td>\n",
       "      <td>0.566797</td>\n",
       "      <td>-0.010016</td>\n",
       "      <td>0.146793</td>\n",
       "      <td>1.00</td>\n",
       "      <td>1</td>\n",
       "    </tr>\n",
       "    <tr>\n",
       "      <th>...</th>\n",
       "      <td>...</td>\n",
       "      <td>...</td>\n",
       "      <td>...</td>\n",
       "      <td>...</td>\n",
       "      <td>...</td>\n",
       "      <td>...</td>\n",
       "      <td>...</td>\n",
       "      <td>...</td>\n",
       "      <td>...</td>\n",
       "      <td>...</td>\n",
       "      <td>...</td>\n",
       "      <td>...</td>\n",
       "      <td>...</td>\n",
       "      <td>...</td>\n",
       "      <td>...</td>\n",
       "      <td>...</td>\n",
       "      <td>...</td>\n",
       "      <td>...</td>\n",
       "      <td>...</td>\n",
       "      <td>...</td>\n",
       "      <td>...</td>\n",
       "    </tr>\n",
       "    <tr>\n",
       "      <th>979</th>\n",
       "      <td>79381.0</td>\n",
       "      <td>1.226566</td>\n",
       "      <td>-0.454822</td>\n",
       "      <td>0.780523</td>\n",
       "      <td>-0.911840</td>\n",
       "      <td>-1.049894</td>\n",
       "      <td>-0.327866</td>\n",
       "      <td>-0.726383</td>\n",
       "      <td>0.171583</td>\n",
       "      <td>1.682029</td>\n",
       "      <td>...</td>\n",
       "      <td>0.010359</td>\n",
       "      <td>0.213434</td>\n",
       "      <td>-0.080911</td>\n",
       "      <td>0.009532</td>\n",
       "      <td>0.492003</td>\n",
       "      <td>-0.681527</td>\n",
       "      <td>0.085176</td>\n",
       "      <td>0.020403</td>\n",
       "      <td>1.00</td>\n",
       "      <td>0</td>\n",
       "    </tr>\n",
       "    <tr>\n",
       "      <th>980</th>\n",
       "      <td>59419.0</td>\n",
       "      <td>-7.834439</td>\n",
       "      <td>5.074372</td>\n",
       "      <td>-2.355542</td>\n",
       "      <td>-2.288419</td>\n",
       "      <td>-2.328402</td>\n",
       "      <td>-0.825089</td>\n",
       "      <td>-1.108412</td>\n",
       "      <td>2.133245</td>\n",
       "      <td>3.214378</td>\n",
       "      <td>...</td>\n",
       "      <td>-0.669808</td>\n",
       "      <td>-0.236393</td>\n",
       "      <td>0.403484</td>\n",
       "      <td>0.005927</td>\n",
       "      <td>0.550385</td>\n",
       "      <td>0.618491</td>\n",
       "      <td>0.011674</td>\n",
       "      <td>-1.138644</td>\n",
       "      <td>0.77</td>\n",
       "      <td>0</td>\n",
       "    </tr>\n",
       "    <tr>\n",
       "      <th>981</th>\n",
       "      <td>57337.0</td>\n",
       "      <td>-2.030414</td>\n",
       "      <td>-0.602036</td>\n",
       "      <td>-0.652583</td>\n",
       "      <td>-0.449921</td>\n",
       "      <td>1.190427</td>\n",
       "      <td>3.744193</td>\n",
       "      <td>-1.424586</td>\n",
       "      <td>1.860615</td>\n",
       "      <td>-1.385125</td>\n",
       "      <td>...</td>\n",
       "      <td>-0.082271</td>\n",
       "      <td>-0.214031</td>\n",
       "      <td>-0.257554</td>\n",
       "      <td>1.013374</td>\n",
       "      <td>0.023698</td>\n",
       "      <td>-0.180167</td>\n",
       "      <td>0.145170</td>\n",
       "      <td>-0.125490</td>\n",
       "      <td>99.00</td>\n",
       "      <td>0</td>\n",
       "    </tr>\n",
       "    <tr>\n",
       "      <th>982</th>\n",
       "      <td>140608.0</td>\n",
       "      <td>1.284440</td>\n",
       "      <td>-1.469589</td>\n",
       "      <td>-0.755021</td>\n",
       "      <td>0.622326</td>\n",
       "      <td>-1.050745</td>\n",
       "      <td>-0.611101</td>\n",
       "      <td>0.004869</td>\n",
       "      <td>-0.141512</td>\n",
       "      <td>1.363232</td>\n",
       "      <td>...</td>\n",
       "      <td>0.088493</td>\n",
       "      <td>-0.463800</td>\n",
       "      <td>0.038800</td>\n",
       "      <td>-0.141837</td>\n",
       "      <td>-0.529681</td>\n",
       "      <td>-0.962357</td>\n",
       "      <td>-0.011821</td>\n",
       "      <td>0.034401</td>\n",
       "      <td>368.92</td>\n",
       "      <td>0</td>\n",
       "    </tr>\n",
       "    <tr>\n",
       "      <th>983</th>\n",
       "      <td>73376.0</td>\n",
       "      <td>-1.367157</td>\n",
       "      <td>1.547912</td>\n",
       "      <td>0.473964</td>\n",
       "      <td>1.147415</td>\n",
       "      <td>-0.351408</td>\n",
       "      <td>0.397670</td>\n",
       "      <td>-0.311594</td>\n",
       "      <td>1.200328</td>\n",
       "      <td>-0.511917</td>\n",
       "      <td>...</td>\n",
       "      <td>0.035533</td>\n",
       "      <td>0.185975</td>\n",
       "      <td>-0.097975</td>\n",
       "      <td>-0.328922</td>\n",
       "      <td>-0.018973</td>\n",
       "      <td>-0.207862</td>\n",
       "      <td>0.280813</td>\n",
       "      <td>0.109282</td>\n",
       "      <td>6.99</td>\n",
       "      <td>0</td>\n",
       "    </tr>\n",
       "  </tbody>\n",
       "</table>\n",
       "<p>984 rows × 31 columns</p>\n",
       "</div>"
      ],
      "text/plain": [
       "         Time        V1        V2        V3        V4        V5        V6  \\\n",
       "0       406.0 -2.312227  1.951992 -1.609851  3.997906 -0.522188 -1.426545   \n",
       "1       472.0 -3.043541 -3.157307  1.088463  2.288644  1.359805 -1.064823   \n",
       "2      4462.0 -2.303350  1.759247 -0.359745  2.330243 -0.821628 -0.075788   \n",
       "3      6986.0 -4.397974  1.358367 -2.592844  2.679787 -1.128131 -1.706536   \n",
       "4      7519.0  1.234235  3.019740 -4.304597  4.732795  3.624201 -1.357746   \n",
       "..        ...       ...       ...       ...       ...       ...       ...   \n",
       "979   79381.0  1.226566 -0.454822  0.780523 -0.911840 -1.049894 -0.327866   \n",
       "980   59419.0 -7.834439  5.074372 -2.355542 -2.288419 -2.328402 -0.825089   \n",
       "981   57337.0 -2.030414 -0.602036 -0.652583 -0.449921  1.190427  3.744193   \n",
       "982  140608.0  1.284440 -1.469589 -0.755021  0.622326 -1.050745 -0.611101   \n",
       "983   73376.0 -1.367157  1.547912  0.473964  1.147415 -0.351408  0.397670   \n",
       "\n",
       "           V7        V8        V9  ...       V21       V22       V23  \\\n",
       "0   -2.537387  1.391657 -2.770089  ...  0.517232 -0.035049 -0.465211   \n",
       "1    0.325574 -0.067794 -0.270953  ...  0.661696  0.435477  1.375966   \n",
       "2    0.562320 -0.399147 -0.238253  ... -0.294166 -0.932391  0.172726   \n",
       "3   -3.496197 -0.248778 -0.247768  ...  0.573574  0.176968 -0.436207   \n",
       "4    1.713445 -0.496358 -1.282858  ... -0.379068 -0.704181 -0.656805   \n",
       "..        ...       ...       ...  ...       ...       ...       ...   \n",
       "979 -0.726383  0.171583  1.682029  ...  0.010359  0.213434 -0.080911   \n",
       "980 -1.108412  2.133245  3.214378  ... -0.669808 -0.236393  0.403484   \n",
       "981 -1.424586  1.860615 -1.385125  ... -0.082271 -0.214031 -0.257554   \n",
       "982  0.004869 -0.141512  1.363232  ...  0.088493 -0.463800  0.038800   \n",
       "983 -0.311594  1.200328 -0.511917  ...  0.035533  0.185975 -0.097975   \n",
       "\n",
       "          V24       V25       V26       V27       V28  Amount  Class  \n",
       "0    0.320198  0.044519  0.177840  0.261145 -0.143276    0.00      1  \n",
       "1   -0.293803  0.279798 -0.145362 -0.252773  0.035764  529.00      1  \n",
       "2   -0.087330 -0.156114 -0.542628  0.039566 -0.153029  239.93      1  \n",
       "3   -0.053502  0.252405 -0.657488 -0.827136  0.849573   59.00      1  \n",
       "4   -1.632653  1.488901  0.566797 -0.010016  0.146793    1.00      1  \n",
       "..        ...       ...       ...       ...       ...     ...    ...  \n",
       "979  0.009532  0.492003 -0.681527  0.085176  0.020403    1.00      0  \n",
       "980  0.005927  0.550385  0.618491  0.011674 -1.138644    0.77      0  \n",
       "981  1.013374  0.023698 -0.180167  0.145170 -0.125490   99.00      0  \n",
       "982 -0.141837 -0.529681 -0.962357 -0.011821  0.034401  368.92      0  \n",
       "983 -0.328922 -0.018973 -0.207862  0.280813  0.109282    6.99      0  \n",
       "\n",
       "[984 rows x 31 columns]"
      ]
     },
     "execution_count": 134,
     "metadata": {},
     "output_type": "execute_result"
    }
   ],
   "source": [
    "df = Fraud.append(Normal, ignore_index=True)\n",
    "df"
   ]
  },
  {
   "cell_type": "code",
   "execution_count": 135,
   "metadata": {
    "scrolled": true
   },
   "outputs": [
    {
     "data": {
      "text/plain": [
       "1    492\n",
       "0    492\n",
       "Name: Class, dtype: int64"
      ]
     },
     "execution_count": 135,
     "metadata": {},
     "output_type": "execute_result"
    }
   ],
   "source": [
    "df['Class'].value_counts()"
   ]
  },
  {
   "cell_type": "code",
   "execution_count": 136,
   "metadata": {},
   "outputs": [
    {
     "data": {
      "image/png": "[encoded data removed]",
      "text/plain": [
       "<Figure size 432x288 with 1 Axes>"
      ]
     },
     "metadata": {
      "needs_background": "light"
     },
     "output_type": "display_data"
    }
   ],
   "source": [
    "count_classes = pd.value_counts(df['Class'], sort = True)\n",
    "count_classes.plot(kind = 'bar', rot=0)\n",
    "plt.title(\"Transaction Class distribution\")\n",
    "plt.xticks(range(2), LABELS)\n",
    "plt.xlabel(\"Class\")\n",
    "plt.ylabel(\"Frequency\");"
   ]
  },
  {
   "cell_type": "code",
   "execution_count": 137,
   "metadata": {},
   "outputs": [],
   "source": [
    "X = df.drop('Class', axis = 1)\n",
    "y = df['Class']"
   ]
  },
  {
   "cell_type": "code",
   "execution_count": 138,
   "metadata": {},
   "outputs": [],
   "source": [
    "X_train, X_test, y_train, y_test = train_test_split(X, y, test_size = 0.3, random_state = 0, stratify = y)"
   ]
  },
  {
   "cell_type": "code",
   "execution_count": 139,
   "metadata": {},
   "outputs": [
    {
     "data": {
      "text/plain": [
       "((688, 30), (296, 30))"
      ]
     },
     "execution_count": 139,
     "metadata": {},
     "output_type": "execute_result"
    }
   ],
   "source": [
    "X_train.shape, X_test.shape"
   ]
  },
  {
   "cell_type": "code",
   "execution_count": 140,
   "metadata": {},
   "outputs": [],
   "source": [
    "scaler = StandardScaler()\n",
    "X_train = scaler.fit_transform(X_train)\n",
    "X_test = scaler.transform(X_test)"
   ]
  },
  {
   "cell_type": "code",
   "execution_count": 141,
   "metadata": {},
   "outputs": [],
   "source": [
    "y_train = y_train.to_numpy()\n",
    "y_test = y_test.to_numpy()"
   ]
  },
  {
   "cell_type": "code",
   "execution_count": 142,
   "metadata": {},
   "outputs": [
    {
     "data": {
      "text/plain": [
       "(688, 30)"
      ]
     },
     "execution_count": 142,
     "metadata": {},
     "output_type": "execute_result"
    }
   ],
   "source": [
    "X_train.shape"
   ]
  },
  {
   "cell_type": "code",
   "execution_count": 143,
   "metadata": {},
   "outputs": [],
   "source": [
    "X_train = X_train.reshape(X_train.shape[0], X_train.shape[1], 1)\n",
    "X_test = X_test.reshape(X_test.shape[0], X_test.shape[1], 1)"
   ]
  },
  {
   "cell_type": "code",
   "execution_count": 145,
   "metadata": {},
   "outputs": [
    {
     "data": {
      "text/plain": [
       "((688, 30, 1), (296, 30, 1))"
      ]
     },
     "execution_count": 145,
     "metadata": {},
     "output_type": "execute_result"
    }
   ],
   "source": [
    "X_train.shape, X_test.shape"
   ]
  },
  {
   "cell_type": "markdown",
   "metadata": {},
   "source": [
    "### Building CNN based model"
   ]
  },
  {
   "cell_type": "code",
   "execution_count": 146,
   "metadata": {},
   "outputs": [],
   "source": [
    "epochs = 20\n",
    "model = Sequential()\n",
    "model.add(Conv1D(64, 2, activation='relu', input_shape = X_train[0].shape))\n",
    "model.add(BatchNormalization())\n",
    "model.add(Dropout(0.2))\n",
    "\n",
    "model.add(Conv1D(64, 2, activation='relu'))\n",
    "model.add(BatchNormalization())\n",
    "model.add(Dropout(0.5))\n",
    "\n",
    "model.add(Flatten())\n",
    "model.add(Dense(64, activation='relu'))\n",
    "model.add(Dropout(0.5))\n",
    "\n",
    "model.add(Dense(1, activation='sigmoid'))\n"
   ]
  },
  {
   "cell_type": "code",
   "execution_count": 147,
   "metadata": {},
   "outputs": [
    {
     "name": "stdout",
     "output_type": "stream",
     "text": [
      "Model: \"sequential_9\"\n",
      "_________________________________________________________________\n",
      "Layer (type)                 Output Shape              Param #   \n",
      "=================================================================\n",
      "conv1d_12 (Conv1D)           (None, 29, 64)            192       \n",
      "_________________________________________________________________\n",
      "batch_normalization_12 (Batc (None, 29, 64)            256       \n",
      "_________________________________________________________________\n",
      "dropout_18 (Dropout)         (None, 29, 64)            0         \n",
      "_________________________________________________________________\n",
      "conv1d_13 (Conv1D)           (None, 28, 64)            8256      \n",
      "_________________________________________________________________\n",
      "batch_normalization_13 (Batc (None, 28, 64)            256       \n",
      "_________________________________________________________________\n",
      "dropout_19 (Dropout)         (None, 28, 64)            0         \n",
      "_________________________________________________________________\n",
      "flatten_6 (Flatten)          (None, 1792)              0         \n",
      "_________________________________________________________________\n",
      "dense_12 (Dense)             (None, 64)                114752    \n",
      "_________________________________________________________________\n",
      "dropout_20 (Dropout)         (None, 64)                0         \n",
      "_________________________________________________________________\n",
      "dense_13 (Dense)             (None, 1)                 65        \n",
      "=================================================================\n",
      "Total params: 123,777\n",
      "Trainable params: 123,521\n",
      "Non-trainable params: 256\n",
      "_________________________________________________________________\n"
     ]
    }
   ],
   "source": [
    "model.summary()"
   ]
  },
  {
   "cell_type": "code",
   "execution_count": 148,
   "metadata": {},
   "outputs": [],
   "source": [
    "model.compile(optimizer=Adam(lr=0.0001), loss = 'binary_crossentropy', metrics=['accuracy'])"
   ]
  },
  {
   "cell_type": "code",
   "execution_count": 149,
   "metadata": {},
   "outputs": [
    {
     "name": "stdout",
     "output_type": "stream",
     "text": [
      "Train on 688 samples, validate on 296 samples\n",
      "Epoch 1/20\n",
      "688/688 [==============================] - 1s 2ms/sample - loss: 0.9034 - accuracy: 0.6032 - val_loss: 0.6257 - val_accuracy: 0.8378\n",
      "Epoch 2/20\n",
      "688/688 [==============================] - 0s 270us/sample - loss: 0.4694 - accuracy: 0.7878 - val_loss: 0.5884 - val_accuracy: 0.7905\n",
      "Epoch 3/20\n",
      "688/688 [==============================] - 0s 256us/sample - loss: 0.3504 - accuracy: 0.8794 - val_loss: 0.5615 - val_accuracy: 0.8345\n",
      "Epoch 4/20\n",
      "688/688 [==============================] - 0s 255us/sample - loss: 0.3185 - accuracy: 0.8823 - val_loss: 0.5390 - val_accuracy: 0.9054\n",
      "Epoch 5/20\n",
      "688/688 [==============================] - 0s 262us/sample - loss: 0.3184 - accuracy: 0.8924 - val_loss: 0.5182 - val_accuracy: 0.9020\n",
      "Epoch 6/20\n",
      "688/688 [==============================] - 0s 257us/sample - loss: 0.2819 - accuracy: 0.8939 - val_loss: 0.4864 - val_accuracy: 0.9020\n",
      "Epoch 7/20\n",
      "688/688 [==============================] - 0s 231us/sample - loss: 0.2565 - accuracy: 0.9041 - val_loss: 0.4493 - val_accuracy: 0.9088\n",
      "Epoch 8/20\n",
      "688/688 [==============================] - 0s 272us/sample - loss: 0.2425 - accuracy: 0.9142 - val_loss: 0.4222 - val_accuracy: 0.9054\n",
      "Epoch 9/20\n",
      "688/688 [==============================] - 0s 255us/sample - loss: 0.2127 - accuracy: 0.9157 - val_loss: 0.3918 - val_accuracy: 0.9088\n",
      "Epoch 10/20\n",
      "688/688 [==============================] - 0s 249us/sample - loss: 0.2574 - accuracy: 0.9186 - val_loss: 0.3752 - val_accuracy: 0.9020\n",
      "Epoch 11/20\n",
      "688/688 [==============================] - 0s 261us/sample - loss: 0.2508 - accuracy: 0.9201 - val_loss: 0.3610 - val_accuracy: 0.8986\n",
      "Epoch 12/20\n",
      "688/688 [==============================] - 0s 278us/sample - loss: 0.2272 - accuracy: 0.9244 - val_loss: 0.3259 - val_accuracy: 0.9020\n",
      "Epoch 13/20\n",
      "688/688 [==============================] - 0s 253us/sample - loss: 0.2086 - accuracy: 0.9331 - val_loss: 0.2999 - val_accuracy: 0.9020\n",
      "Epoch 14/20\n",
      "688/688 [==============================] - 0s 245us/sample - loss: 0.2172 - accuracy: 0.9215 - val_loss: 0.2801 - val_accuracy: 0.9088\n",
      "Epoch 15/20\n",
      "688/688 [==============================] - 0s 249us/sample - loss: 0.2045 - accuracy: 0.9288 - val_loss: 0.2612 - val_accuracy: 0.9122\n",
      "Epoch 16/20\n",
      "688/688 [==============================] - 0s 252us/sample - loss: 0.1993 - accuracy: 0.9375 - val_loss: 0.2453 - val_accuracy: 0.9088\n",
      "Epoch 17/20\n",
      "688/688 [==============================] - 0s 254us/sample - loss: 0.2105 - accuracy: 0.9215 - val_loss: 0.2351 - val_accuracy: 0.9088\n",
      "Epoch 18/20\n",
      "688/688 [==============================] - 0s 250us/sample - loss: 0.2149 - accuracy: 0.9288 - val_loss: 0.2293 - val_accuracy: 0.9088\n",
      "Epoch 19/20\n",
      "688/688 [==============================] - 0s 238us/sample - loss: 0.1763 - accuracy: 0.9375 - val_loss: 0.2244 - val_accuracy: 0.9088\n",
      "Epoch 20/20\n",
      "688/688 [==============================] - 0s 256us/sample - loss: 0.2093 - accuracy: 0.9390 - val_loss: 0.2220 - val_accuracy: 0.9088\n"
     ]
    }
   ],
   "source": [
    "history = model.fit(X_train, y_train, epochs=epochs, validation_data=(X_test, y_test), verbose=1)"
   ]
  },
  {
   "cell_type": "code",
   "execution_count": 150,
   "metadata": {},
   "outputs": [],
   "source": [
    "def plot_learningCurve(history, epoch):\n",
    "  # Plot training & validation accuracy values\n",
    "  epoch_range = range(1, epoch+1)\n",
    "  plt.plot(epoch_range, history.history['accuracy'])\n",
    "  plt.plot(epoch_range, history.history['val_accuracy'])\n",
    "  plt.title('Model accuracy')\n",
    "  plt.ylabel('Accuracy')\n",
    "  plt.xlabel('Epoch')\n",
    "  plt.legend(['Train', 'Val'], loc='upper left')\n",
    "  plt.show()\n",
    "\n",
    "  # Plot training & validation loss values\n",
    "  plt.plot(epoch_range, history.history['loss'])\n",
    "  plt.plot(epoch_range, history.history['val_loss'])\n",
    "  plt.title('Model loss')\n",
    "  plt.ylabel('Loss')\n",
    "  plt.xlabel('Epoch')\n",
    "  plt.legend(['Train', 'Val'], loc='upper left')\n",
    "  plt.show()"
   ]
  },
  {
   "cell_type": "code",
   "execution_count": 151,
   "metadata": {},
   "outputs": [
    {
     "data": {
      "image/png": "[encoded data removed]",
      "text/plain": [
       "<Figure size 432x288 with 1 Axes>"
      ]
     },
     "metadata": {
      "needs_background": "light"
     },
     "output_type": "display_data"
    },
    {
     "data": {
      "image/png": "[encoded data removed]",
      "text/plain": [
       "<Figure size 432x288 with 1 Axes>"
      ]
     },
     "metadata": {
      "needs_background": "light"
     },
     "output_type": "display_data"
    }
   ],
   "source": [
    "plot_learningCurve(history, epochs)"
   ]
  },
  {
   "cell_type": "code",
   "execution_count": null,
   "metadata": {},
   "outputs": [],
   "source": []
  },
  {
   "cell_type": "markdown",
   "metadata": {},
   "source": [
    "### Adding MaxPool Layer"
   ]
  },
  {
   "cell_type": "code",
   "execution_count": 152,
   "metadata": {
    "scrolled": true
   },
   "outputs": [
    {
     "name": "stdout",
     "output_type": "stream",
     "text": [
      "Train on 688 samples, validate on 296 samples\n",
      "Epoch 1/100\n",
      "688/688 [==============================] - 1s 2ms/sample - loss: 1.2857 - accuracy: 0.5334 - val_loss: 0.6793 - val_accuracy: 0.6791\n",
      "Epoch 2/100\n",
      "688/688 [==============================] - 0s 245us/sample - loss: 1.0539 - accuracy: 0.5959 - val_loss: 0.6591 - val_accuracy: 0.6486\n",
      "Epoch 3/100\n",
      "688/688 [==============================] - 0s 211us/sample - loss: 0.8391 - accuracy: 0.6526 - val_loss: 0.6442 - val_accuracy: 0.6115\n",
      "Epoch 4/100\n",
      "688/688 [==============================] - 0s 212us/sample - loss: 0.6778 - accuracy: 0.7078 - val_loss: 0.6347 - val_accuracy: 0.5980\n",
      "Epoch 5/100\n",
      "688/688 [==============================] - 0s 214us/sample - loss: 0.6966 - accuracy: 0.7020 - val_loss: 0.6293 - val_accuracy: 0.5912\n",
      "Epoch 6/100\n",
      "688/688 [==============================] - 0s 214us/sample - loss: 0.6417 - accuracy: 0.7384 - val_loss: 0.6223 - val_accuracy: 0.5980\n",
      "Epoch 7/100\n",
      "688/688 [==============================] - 0s 213us/sample - loss: 0.6109 - accuracy: 0.7471 - val_loss: 0.6123 - val_accuracy: 0.6014\n",
      "Epoch 8/100\n",
      "688/688 [==============================] - 0s 206us/sample - loss: 0.5290 - accuracy: 0.7834 - val_loss: 0.6004 - val_accuracy: 0.6081\n",
      "Epoch 9/100\n",
      "688/688 [==============================] - 0s 184us/sample - loss: 0.5254 - accuracy: 0.7762 - val_loss: 0.5823 - val_accuracy: 0.6284\n",
      "Epoch 10/100\n",
      "688/688 [==============================] - 0s 221us/sample - loss: 0.4772 - accuracy: 0.7878 - val_loss: 0.5571 - val_accuracy: 0.6757\n",
      "Epoch 11/100\n",
      "688/688 [==============================] - 0s 203us/sample - loss: 0.4550 - accuracy: 0.8023 - val_loss: 0.5314 - val_accuracy: 0.6959\n",
      "Epoch 12/100\n",
      "688/688 [==============================] - 0s 203us/sample - loss: 0.4578 - accuracy: 0.8270 - val_loss: 0.5050 - val_accuracy: 0.7297\n",
      "Epoch 13/100\n",
      "688/688 [==============================] - 0s 193us/sample - loss: 0.4033 - accuracy: 0.8285 - val_loss: 0.4788 - val_accuracy: 0.7534\n",
      "Epoch 14/100\n",
      "688/688 [==============================] - 0s 223us/sample - loss: 0.4158 - accuracy: 0.8358 - val_loss: 0.4524 - val_accuracy: 0.7736\n",
      "Epoch 15/100\n",
      "688/688 [==============================] - 0s 206us/sample - loss: 0.4147 - accuracy: 0.8387 - val_loss: 0.4282 - val_accuracy: 0.7973\n",
      "Epoch 16/100\n",
      "688/688 [==============================] - 0s 204us/sample - loss: 0.3698 - accuracy: 0.8459 - val_loss: 0.4029 - val_accuracy: 0.8074\n",
      "Epoch 17/100\n",
      "688/688 [==============================] - 0s 210us/sample - loss: 0.3293 - accuracy: 0.8779 - val_loss: 0.3798 - val_accuracy: 0.8243\n",
      "Epoch 18/100\n",
      "688/688 [==============================] - 0s 208us/sample - loss: 0.3559 - accuracy: 0.8648 - val_loss: 0.3606 - val_accuracy: 0.8345\n",
      "Epoch 19/100\n",
      "688/688 [==============================] - 0s 182us/sample - loss: 0.3401 - accuracy: 0.8532 - val_loss: 0.3438 - val_accuracy: 0.8547\n",
      "Epoch 20/100\n",
      "688/688 [==============================] - 0s 217us/sample - loss: 0.3254 - accuracy: 0.8677 - val_loss: 0.3293 - val_accuracy: 0.8581\n",
      "Epoch 21/100\n",
      "688/688 [==============================] - 0s 219us/sample - loss: 0.3268 - accuracy: 0.8619 - val_loss: 0.3181 - val_accuracy: 0.8615\n",
      "Epoch 22/100\n",
      "688/688 [==============================] - 0s 208us/sample - loss: 0.3423 - accuracy: 0.8779 - val_loss: 0.3109 - val_accuracy: 0.8649\n",
      "Epoch 23/100\n",
      "688/688 [==============================] - 0s 204us/sample - loss: 0.3319 - accuracy: 0.8881 - val_loss: 0.3016 - val_accuracy: 0.8682\n",
      "Epoch 24/100\n",
      "688/688 [==============================] - 0s 212us/sample - loss: 0.2680 - accuracy: 0.8910 - val_loss: 0.2945 - val_accuracy: 0.8716\n",
      "Epoch 25/100\n",
      "688/688 [==============================] - 0s 203us/sample - loss: 0.3087 - accuracy: 0.8808 - val_loss: 0.2884 - val_accuracy: 0.8818\n",
      "Epoch 26/100\n",
      "688/688 [==============================] - 0s 206us/sample - loss: 0.2705 - accuracy: 0.9026 - val_loss: 0.2826 - val_accuracy: 0.8851\n",
      "Epoch 27/100\n",
      "688/688 [==============================] - 0s 203us/sample - loss: 0.2740 - accuracy: 0.8910 - val_loss: 0.2789 - val_accuracy: 0.8919\n",
      "Epoch 28/100\n",
      "688/688 [==============================] - 0s 210us/sample - loss: 0.2671 - accuracy: 0.8823 - val_loss: 0.2769 - val_accuracy: 0.8919\n",
      "Epoch 29/100\n",
      "688/688 [==============================] - 0s 190us/sample - loss: 0.2805 - accuracy: 0.9012 - val_loss: 0.2763 - val_accuracy: 0.8953\n",
      "Epoch 30/100\n",
      "688/688 [==============================] - 0s 211us/sample - loss: 0.3117 - accuracy: 0.8706 - val_loss: 0.2779 - val_accuracy: 0.8986\n",
      "Epoch 31/100\n",
      "688/688 [==============================] - 0s 207us/sample - loss: 0.2378 - accuracy: 0.9128 - val_loss: 0.2753 - val_accuracy: 0.8986\n",
      "Epoch 32/100\n",
      "688/688 [==============================] - 0s 202us/sample - loss: 0.2814 - accuracy: 0.8823 - val_loss: 0.2753 - val_accuracy: 0.8986\n",
      "Epoch 33/100\n",
      "688/688 [==============================] - 0s 204us/sample - loss: 0.2698 - accuracy: 0.9012 - val_loss: 0.2743 - val_accuracy: 0.9020\n",
      "Epoch 34/100\n",
      "688/688 [==============================] - 0s 204us/sample - loss: 0.3030 - accuracy: 0.8910 - val_loss: 0.2735 - val_accuracy: 0.9020\n",
      "Epoch 35/100\n",
      "688/688 [==============================] - 0s 206us/sample - loss: 0.2768 - accuracy: 0.8953 - val_loss: 0.2717 - val_accuracy: 0.8986\n",
      "Epoch 36/100\n",
      "688/688 [==============================] - 0s 212us/sample - loss: 0.2294 - accuracy: 0.9070 - val_loss: 0.2669 - val_accuracy: 0.8986\n",
      "Epoch 37/100\n",
      "688/688 [==============================] - 0s 210us/sample - loss: 0.2363 - accuracy: 0.9084 - val_loss: 0.2647 - val_accuracy: 0.9020\n",
      "Epoch 38/100\n",
      "688/688 [==============================] - 0s 206us/sample - loss: 0.2385 - accuracy: 0.9142 - val_loss: 0.2645 - val_accuracy: 0.9020\n",
      "Epoch 39/100\n",
      "688/688 [==============================] - 0s 202us/sample - loss: 0.2834 - accuracy: 0.9012 - val_loss: 0.2629 - val_accuracy: 0.9020\n",
      "Epoch 40/100\n",
      "688/688 [==============================] - 0s 211us/sample - loss: 0.2574 - accuracy: 0.9128 - val_loss: 0.2639 - val_accuracy: 0.9020\n",
      "Epoch 41/100\n",
      "688/688 [==============================] - 0s 219us/sample - loss: 0.2561 - accuracy: 0.9099 - val_loss: 0.2626 - val_accuracy: 0.9020\n",
      "Epoch 42/100\n",
      "688/688 [==============================] - 0s 215us/sample - loss: 0.2427 - accuracy: 0.9099 - val_loss: 0.2607 - val_accuracy: 0.9020\n",
      "Epoch 43/100\n",
      "688/688 [==============================] - 0s 217us/sample - loss: 0.2602 - accuracy: 0.9113 - val_loss: 0.2590 - val_accuracy: 0.9020\n",
      "Epoch 44/100\n",
      "688/688 [==============================] - 0s 219us/sample - loss: 0.2377 - accuracy: 0.9128 - val_loss: 0.2578 - val_accuracy: 0.9020\n",
      "Epoch 45/100\n",
      "688/688 [==============================] - 0s 219us/sample - loss: 0.2308 - accuracy: 0.9157 - val_loss: 0.2546 - val_accuracy: 0.9020\n",
      "Epoch 46/100\n",
      "688/688 [==============================] - 0s 211us/sample - loss: 0.2244 - accuracy: 0.9142 - val_loss: 0.2546 - val_accuracy: 0.9020\n",
      "Epoch 47/100\n",
      "688/688 [==============================] - 0s 201us/sample - loss: 0.2274 - accuracy: 0.9215 - val_loss: 0.2541 - val_accuracy: 0.9020\n",
      "Epoch 48/100\n",
      "688/688 [==============================] - 0s 210us/sample - loss: 0.2560 - accuracy: 0.9099 - val_loss: 0.2534 - val_accuracy: 0.9020\n",
      "Epoch 49/100\n",
      "688/688 [==============================] - 0s 230us/sample - loss: 0.2278 - accuracy: 0.9142 - val_loss: 0.2535 - val_accuracy: 0.9020\n",
      "Epoch 50/100\n",
      "688/688 [==============================] - 0s 236us/sample - loss: 0.2190 - accuracy: 0.9201 - val_loss: 0.2548 - val_accuracy: 0.9020\n",
      "Epoch 51/100\n",
      "688/688 [==============================] - 0s 236us/sample - loss: 0.2244 - accuracy: 0.9186 - val_loss: 0.2564 - val_accuracy: 0.9020\n",
      "Epoch 52/100\n",
      "688/688 [==============================] - 0s 234us/sample - loss: 0.1980 - accuracy: 0.9201 - val_loss: 0.2583 - val_accuracy: 0.9020\n",
      "Epoch 53/100\n",
      "688/688 [==============================] - 0s 246us/sample - loss: 0.2378 - accuracy: 0.9113 - val_loss: 0.2584 - val_accuracy: 0.9020\n",
      "Epoch 54/100\n",
      "688/688 [==============================] - 0s 239us/sample - loss: 0.2099 - accuracy: 0.9244 - val_loss: 0.2584 - val_accuracy: 0.9020\n",
      "Epoch 55/100\n",
      "688/688 [==============================] - 0s 236us/sample - loss: 0.1951 - accuracy: 0.9331 - val_loss: 0.2562 - val_accuracy: 0.9020\n",
      "Epoch 56/100\n"
     ]
    },
    {
     "name": "stdout",
     "output_type": "stream",
     "text": [
      "688/688 [==============================] - 0s 232us/sample - loss: 0.2465 - accuracy: 0.9157 - val_loss: 0.2539 - val_accuracy: 0.9020\n",
      "Epoch 57/100\n",
      "688/688 [==============================] - 0s 232us/sample - loss: 0.2292 - accuracy: 0.9244 - val_loss: 0.2543 - val_accuracy: 0.9020\n",
      "Epoch 58/100\n",
      "688/688 [==============================] - 0s 222us/sample - loss: 0.2559 - accuracy: 0.9128 - val_loss: 0.2520 - val_accuracy: 0.9020\n",
      "Epoch 59/100\n",
      "688/688 [==============================] - 0s 230us/sample - loss: 0.2097 - accuracy: 0.9273 - val_loss: 0.2503 - val_accuracy: 0.8986\n",
      "Epoch 60/100\n",
      "688/688 [==============================] - 0s 229us/sample - loss: 0.2179 - accuracy: 0.9230 - val_loss: 0.2499 - val_accuracy: 0.8986\n",
      "Epoch 61/100\n",
      "688/688 [==============================] - 0s 232us/sample - loss: 0.2445 - accuracy: 0.9201 - val_loss: 0.2500 - val_accuracy: 0.8986\n",
      "Epoch 62/100\n",
      "688/688 [==============================] - 0s 239us/sample - loss: 0.2288 - accuracy: 0.9201 - val_loss: 0.2508 - val_accuracy: 0.8986\n",
      "Epoch 63/100\n",
      "688/688 [==============================] - 0s 233us/sample - loss: 0.2032 - accuracy: 0.9259 - val_loss: 0.2510 - val_accuracy: 0.9020\n",
      "Epoch 64/100\n",
      "688/688 [==============================] - 0s 237us/sample - loss: 0.2084 - accuracy: 0.9201 - val_loss: 0.2516 - val_accuracy: 0.9020\n",
      "Epoch 65/100\n",
      "688/688 [==============================] - 0s 242us/sample - loss: 0.2010 - accuracy: 0.9201 - val_loss: 0.2512 - val_accuracy: 0.9020\n",
      "Epoch 66/100\n",
      "688/688 [==============================] - 0s 245us/sample - loss: 0.1780 - accuracy: 0.9259 - val_loss: 0.2522 - val_accuracy: 0.8986\n",
      "Epoch 67/100\n",
      "688/688 [==============================] - 0s 241us/sample - loss: 0.2086 - accuracy: 0.9099 - val_loss: 0.2533 - val_accuracy: 0.9020\n",
      "Epoch 68/100\n",
      "688/688 [==============================] - 0s 245us/sample - loss: 0.2035 - accuracy: 0.9230 - val_loss: 0.2549 - val_accuracy: 0.9020\n",
      "Epoch 69/100\n",
      "688/688 [==============================] - 0s 232us/sample - loss: 0.2101 - accuracy: 0.9346 - val_loss: 0.2560 - val_accuracy: 0.8986\n",
      "Epoch 70/100\n",
      "688/688 [==============================] - 0s 231us/sample - loss: 0.1665 - accuracy: 0.9448 - val_loss: 0.2542 - val_accuracy: 0.9020\n",
      "Epoch 71/100\n",
      "688/688 [==============================] - 0s 222us/sample - loss: 0.1829 - accuracy: 0.9259 - val_loss: 0.2542 - val_accuracy: 0.9020\n",
      "Epoch 72/100\n",
      "688/688 [==============================] - 0s 212us/sample - loss: 0.2150 - accuracy: 0.9302 - val_loss: 0.2546 - val_accuracy: 0.9020\n",
      "Epoch 73/100\n",
      "688/688 [==============================] - 0s 215us/sample - loss: 0.1909 - accuracy: 0.9230 - val_loss: 0.2540 - val_accuracy: 0.9020\n",
      "Epoch 74/100\n",
      "688/688 [==============================] - 0s 214us/sample - loss: 0.1878 - accuracy: 0.9317 - val_loss: 0.2544 - val_accuracy: 0.9020\n",
      "Epoch 75/100\n",
      "688/688 [==============================] - 0s 210us/sample - loss: 0.2099 - accuracy: 0.9288 - val_loss: 0.2529 - val_accuracy: 0.9020\n",
      "Epoch 76/100\n",
      "688/688 [==============================] - 0s 213us/sample - loss: 0.1884 - accuracy: 0.9288 - val_loss: 0.2516 - val_accuracy: 0.9020\n",
      "Epoch 77/100\n",
      "688/688 [==============================] - 0s 212us/sample - loss: 0.1787 - accuracy: 0.9346 - val_loss: 0.2511 - val_accuracy: 0.9020\n",
      "Epoch 78/100\n",
      "688/688 [==============================] - 0s 199us/sample - loss: 0.2150 - accuracy: 0.9186 - val_loss: 0.2505 - val_accuracy: 0.9020\n",
      "Epoch 79/100\n",
      "688/688 [==============================] - 0s 201us/sample - loss: 0.1920 - accuracy: 0.9404 - val_loss: 0.2490 - val_accuracy: 0.9020\n",
      "Epoch 80/100\n",
      "688/688 [==============================] - 0s 199us/sample - loss: 0.1910 - accuracy: 0.9331 - val_loss: 0.2488 - val_accuracy: 0.9020\n",
      "Epoch 81/100\n",
      "688/688 [==============================] - 0s 190us/sample - loss: 0.2144 - accuracy: 0.9244 - val_loss: 0.2507 - val_accuracy: 0.9020\n",
      "Epoch 82/100\n",
      "688/688 [==============================] - 0s 210us/sample - loss: 0.1607 - accuracy: 0.9317 - val_loss: 0.2496 - val_accuracy: 0.9020\n",
      "Epoch 83/100\n",
      "688/688 [==============================] - 0s 211us/sample - loss: 0.1604 - accuracy: 0.9433 - val_loss: 0.2489 - val_accuracy: 0.9020\n",
      "Epoch 84/100\n",
      "688/688 [==============================] - 0s 219us/sample - loss: 0.1914 - accuracy: 0.9288 - val_loss: 0.2480 - val_accuracy: 0.9020\n",
      "Epoch 85/100\n",
      "688/688 [==============================] - 0s 218us/sample - loss: 0.1889 - accuracy: 0.9302 - val_loss: 0.2479 - val_accuracy: 0.8986\n",
      "Epoch 86/100\n",
      "688/688 [==============================] - ETA: 0s - loss: 0.1707 - accuracy: 0.93 - 0s 214us/sample - loss: 0.1676 - accuracy: 0.9346 - val_loss: 0.2489 - val_accuracy: 0.9020\n",
      "Epoch 87/100\n",
      "688/688 [==============================] - 0s 217us/sample - loss: 0.1827 - accuracy: 0.9259 - val_loss: 0.2505 - val_accuracy: 0.9020\n",
      "Epoch 88/100\n",
      "688/688 [==============================] - 0s 207us/sample - loss: 0.1734 - accuracy: 0.9360 - val_loss: 0.2518 - val_accuracy: 0.9020\n",
      "Epoch 89/100\n",
      "688/688 [==============================] - 0s 206us/sample - loss: 0.1750 - accuracy: 0.9302 - val_loss: 0.2505 - val_accuracy: 0.8986\n",
      "Epoch 90/100\n",
      "688/688 [==============================] - 0s 207us/sample - loss: 0.1792 - accuracy: 0.9331 - val_loss: 0.2480 - val_accuracy: 0.8986\n",
      "Epoch 91/100\n",
      "688/688 [==============================] - 0s 246us/sample - loss: 0.1827 - accuracy: 0.9317 - val_loss: 0.2466 - val_accuracy: 0.8986\n",
      "Epoch 92/100\n",
      "688/688 [==============================] - 0s 233us/sample - loss: 0.1634 - accuracy: 0.9288 - val_loss: 0.2477 - val_accuracy: 0.8986\n",
      "Epoch 93/100\n",
      "688/688 [==============================] - 0s 236us/sample - loss: 0.1663 - accuracy: 0.9360 - val_loss: 0.2489 - val_accuracy: 0.8986\n",
      "Epoch 94/100\n",
      "688/688 [==============================] - 0s 237us/sample - loss: 0.1621 - accuracy: 0.9404 - val_loss: 0.2483 - val_accuracy: 0.8986\n",
      "Epoch 95/100\n",
      "688/688 [==============================] - 0s 236us/sample - loss: 0.1540 - accuracy: 0.9477 - val_loss: 0.2492 - val_accuracy: 0.8986\n",
      "Epoch 96/100\n",
      "688/688 [==============================] - 0s 236us/sample - loss: 0.1564 - accuracy: 0.9462 - val_loss: 0.2491 - val_accuracy: 0.8986\n",
      "Epoch 97/100\n",
      "688/688 [==============================] - 0s 224us/sample - loss: 0.1679 - accuracy: 0.9462 - val_loss: 0.2491 - val_accuracy: 0.8986\n",
      "Epoch 98/100\n",
      "688/688 [==============================] - 0s 238us/sample - loss: 0.1818 - accuracy: 0.9433 - val_loss: 0.2497 - val_accuracy: 0.8986\n",
      "Epoch 99/100\n",
      "688/688 [==============================] - 0s 246us/sample - loss: 0.1856 - accuracy: 0.9331 - val_loss: 0.2487 - val_accuracy: 0.8986\n",
      "Epoch 100/100\n",
      "688/688 [==============================] - 0s 236us/sample - loss: 0.1805 - accuracy: 0.9390 - val_loss: 0.2473 - val_accuracy: 0.8986\n"
     ]
    },
    {
     "data": {
      "image/png": "[encoded data removed]",
      "text/plain": [
       "<Figure size 432x288 with 1 Axes>"
      ]
     },
     "metadata": {
      "needs_background": "light"
     },
     "output_type": "display_data"
    },
    {
     "data": {
      "image/png": "[encoded data removed]",
      "text/plain": [
       "<Figure size 432x288 with 1 Axes>"
      ]
     },
     "metadata": {
      "needs_background": "light"
     },
     "output_type": "display_data"
    }
   ],
   "source": [
    "epochs = 100\n",
    "model = Sequential()\n",
    "model.add(Conv1D(64, 2, activation='relu', input_shape = X_train[0].shape))\n",
    "model.add(BatchNormalization())\n",
    "model.add(MaxPool1D(2))\n",
    "model.add(Dropout(0.2))\n",
    "\n",
    "model.add(Conv1D(64, 2, activation='relu'))\n",
    "model.add(BatchNormalization())\n",
    "model.add(MaxPool1D(2))\n",
    "model.add(Dropout(0.5))\n",
    "\n",
    "model.add(Flatten())\n",
    "model.add(Dense(64, activation='relu'))\n",
    "model.add(Dropout(0.5))\n",
    "\n",
    "model.add(Dense(1, activation='sigmoid'))\n",
    "\n",
    "model.compile(optimizer=Adam(lr=0.0001), loss = 'binary_crossentropy', metrics=['accuracy'])\n",
    "history = model.fit(X_train, y_train, epochs=epochs, validation_data=(X_test, y_test), verbose=1)\n",
    "plot_learningCurve(history, epochs)"
   ]
  },
  {
   "cell_type": "code",
   "execution_count": 153,
   "metadata": {
    "scrolled": true
   },
   "outputs": [
    {
     "name": "stdout",
     "output_type": "stream",
     "text": [
      "296/1 - 0s - loss: 0.1508 - accuracy: 0.8986\n",
      "Test loss: 0.2472971842901127\n",
      "Test accuracy: 0.8986486\n"
     ]
    }
   ],
   "source": [
    "test_scores = model.evaluate(X_test, y_test, verbose=2)\n",
    "print('Test loss:', test_scores[0])\n",
    "print('Test accuracy:', test_scores[1])\n"
   ]
  }
 ],
 "metadata": {
  "kernelspec": {
   "display_name": "Python 3",
   "language": "python",
   "name": "python3"
  },
  "language_info": {
   "codemirror_mode": {
    "name": "ipython",
    "version": 3
   },
   "file_extension": ".py",
   "mimetype": "text/x-python",
   "name": "python",
   "nbconvert_exporter": "python",
   "pygments_lexer": "ipython3",
   "version": "3.7.6"
  }
 },
 "nbformat": 4,
 "nbformat_minor": 2
}
